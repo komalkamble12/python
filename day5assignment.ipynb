{
 "cells": [
  {
   "cell_type": "markdown",
   "metadata": {},
   "source": [
    "# Assignment 1"
   ]
  },
  {
   "cell_type": "code",
   "execution_count": 5,
   "metadata": {},
   "outputs": [],
   "source": [
    "def pushZerosToEnd(lst, n): \n",
    "\n",
    "    count = 0 \n",
    "\n",
    "    for i in range(n): \n",
    "\n",
    "        if lst[i] != 0:\n",
    "            lst[count] = lst[i] \n",
    "            count+=1\n",
    "            while count < n: \n",
    "\n",
    "                lst[count] = 0\n",
    "\n",
    "                count += 1"
   ]
  },
  {
   "cell_type": "code",
   "execution_count": 3,
   "metadata": {},
   "outputs": [
    {
     "name": "stdout",
     "output_type": "stream",
     "text": [
      " after pushing all zeros to right hand side:\n",
      "[5, 7, 2, 6, 1, 1, 8, 3, 1, 0, 0]\n"
     ]
    }
   ],
   "source": [
    "lst= [0,5,7,2,6,1,0,1,8,3,1] \n",
    "\n",
    "n = len(lst) \n",
    "pushZerosToEnd(lst, n)\n",
    "\n",
    "print(\" after pushing all zeros to right hand side:\") \n",
    "\n",
    "print(lst)\n"
   ]
  },
  {
   "cell_type": "markdown",
   "metadata": {},
   "source": [
    "# Assignment 2"
   ]
  },
  {
   "cell_type": "code",
   "execution_count": 6,
   "metadata": {},
   "outputs": [
    {
     "name": "stdout",
     "output_type": "stream",
     "text": [
      "The original list 1 is : [10, 20, 40, 60, 70, 80]\n",
      "The original list 2 is : [5, 15, 25, 35, 45, 60]\n",
      "The combined sorted list is : [5, 10, 15, 20, 25, 35, 40, 45, 60, 60, 70, 80]\n"
     ]
    }
   ],
   "source": [
    "lst1 = [10,20,40,60,70,80] \n",
    "\n",
    "lst2 = [5,15,25,35,45,60] \n",
    "\n",
    "\n",
    "print(\"The original list 1 is : \" + str(lst1)) \n",
    "\n",
    "print(\"The original list 2 is : \" + str(lst2)) \n",
    "\n",
    "leng1 = len(lst1) \n",
    "\n",
    "leng2 = len(lst2)\n",
    "\n",
    "res = [] \n",
    "\n",
    "i, j = 0, 0\n",
    "\n",
    "  \n",
    "\n",
    "while i < leng1 and j < leng2: \n",
    "\n",
    "    if lst1[i] < lst2[j]: \n",
    "\n",
    "      res.append(lst1[i]) \n",
    "\n",
    "      i += 1\n",
    "\n",
    "  \n",
    "\n",
    "    else: \n",
    "\n",
    "      res.append(lst2[j]) \n",
    "\n",
    "      j += 1\n",
    "\n",
    "  \n",
    "\n",
    "res = res + lst1[i:] + lst2[j:]\n",
    "\n",
    "print(\"The combined sorted list is : \" + str(res))"
   ]
  },
  {
   "cell_type": "code",
   "execution_count": null,
   "metadata": {},
   "outputs": [],
   "source": []
  }
 ],
 "metadata": {
  "kernelspec": {
   "display_name": "Python 3",
   "language": "python",
   "name": "python3"
  },
  "language_info": {
   "codemirror_mode": {
    "name": "ipython",
    "version": 3
   },
   "file_extension": ".py",
   "mimetype": "text/x-python",
   "name": "python",
   "nbconvert_exporter": "python",
   "pygments_lexer": "ipython3",
   "version": "3.7.6"
  }
 },
 "nbformat": 4,
 "nbformat_minor": 4
}
